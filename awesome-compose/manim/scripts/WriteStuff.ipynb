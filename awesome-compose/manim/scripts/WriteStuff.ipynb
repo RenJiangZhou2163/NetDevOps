{
 "cells": [
  {
   "cell_type": "code",
   "execution_count": 3,
   "id": "7207ee93-baed-4604-868b-48321551932f",
   "metadata": {},
   "outputs": [],
   "source": [
    "from manim import *"
   ]
  },
  {
   "cell_type": "code",
   "execution_count": 4,
   "id": "c8241609-198e-48b9-a6ca-802879202684",
   "metadata": {},
   "outputs": [
    {
     "data": {
      "text/html": [
       "<pre style=\"white-space:pre;overflow-x:auto;line-height:normal;font-family:Menlo,'DejaVu Sans Mono',consolas,'Courier New',monospace\">Manim Community <span style=\"color: #008000; text-decoration-color: #008000\">v0.19.0</span>\n",
       "\n",
       "</pre>\n"
      ],
      "text/plain": [
       "Manim Community \u001b[32mv0.\u001b[0m\u001b[32m19.0\u001b[0m\n",
       "\n"
      ]
     },
     "metadata": {},
     "output_type": "display_data"
    },
    {
     "name": "stderr",
     "output_type": "stream",
     "text": [
      "                                                                                                                           "
     ]
    },
    {
     "data": {
      "text/html": [
       "<video src=\"media/jupyter/WriteStuff@2025-01-31@12-36-58.mp4\" controls autoplay loop style=\"max-width: 60%;\"  >\n",
       "      Your browser does not support the <code>video</code> element.\n",
       "    </video>"
      ],
      "text/plain": [
       "<IPython.core.display.Video object>"
      ]
     },
     "metadata": {},
     "output_type": "display_data"
    }
   ],
   "source": [
    "%%manim -qm -v WARNING WriteStuff\n",
    "\n",
    "class WriteStuff(Scene):\n",
    "    def construct(self):\n",
    "        example_text = Tex(\"This is a some text\", tex_to_color_map={\"text\": YELLOW})\n",
    "        example_tex = MathTex(\n",
    "            \"\\\\sum_{k=1}^\\\\infty {1 \\\\over k^2} = {\\\\pi^2 \\\\over 6}\",\n",
    "        )\n",
    "        group = VGroup(example_text, example_tex)\n",
    "        group.arrange(DOWN)\n",
    "        group.width = config[\"frame_width\"] - 2 * LARGE_BUFF\n",
    "\n",
    "        self.play(Write(example_text))\n",
    "        self.play(Write(example_tex))\n",
    "        self.wait()"
   ]
  },
  {
   "cell_type": "code",
   "execution_count": null,
   "id": "02476f4f-e152-4527-af3b-3991c5f5e699",
   "metadata": {},
   "outputs": [],
   "source": []
  }
 ],
 "metadata": {
  "kernelspec": {
   "display_name": "Python 3 (ipykernel)",
   "language": "python",
   "name": "python3"
  },
  "language_info": {
   "codemirror_mode": {
    "name": "ipython",
    "version": 3
   },
   "file_extension": ".py",
   "mimetype": "text/x-python",
   "name": "python",
   "nbconvert_exporter": "python",
   "pygments_lexer": "ipython3",
   "version": "3.11.11"
  }
 },
 "nbformat": 4,
 "nbformat_minor": 5
}

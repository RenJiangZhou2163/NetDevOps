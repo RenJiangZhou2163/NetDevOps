{
 "cells": [
  {
   "cell_type": "code",
   "execution_count": 3,
   "id": "720065b1-3716-442d-bc7e-f1165fbd79e3",
   "metadata": {},
   "outputs": [],
   "source": [
    "from manim import *"
   ]
  },
  {
   "cell_type": "code",
   "execution_count": 4,
   "id": "0823fc14-9004-485e-a969-f276bee837ce",
   "metadata": {},
   "outputs": [
    {
     "data": {
      "text/html": [
       "<pre style=\"white-space:pre;overflow-x:auto;line-height:normal;font-family:Menlo,'DejaVu Sans Mono',consolas,'Courier New',monospace\">Manim Community <span style=\"color: #008000; text-decoration-color: #008000\">v0.19.0</span>\n",
       "\n",
       "</pre>\n"
      ],
      "text/plain": [
       "Manim Community \u001b[32mv0.\u001b[0m\u001b[32m19.0\u001b[0m\n",
       "\n"
      ]
     },
     "metadata": {},
     "output_type": "display_data"
    },
    {
     "name": "stderr",
     "output_type": "stream",
     "text": [
      "                                                                            "
     ]
    },
    {
     "data": {
      "text/html": [
       "<video src=\"media/jupyter/UpdatersExample@2025-01-31@12-34-22.mp4\" controls autoplay loop style=\"max-width: 60%;\"  >\n",
       "      Your browser does not support the <code>video</code> element.\n",
       "    </video>"
      ],
      "text/plain": [
       "<IPython.core.display.Video object>"
      ]
     },
     "metadata": {},
     "output_type": "display_data"
    }
   ],
   "source": [
    "%%manim -qm -v WARNING UpdatersExample\n",
    "\n",
    "class UpdatersExample(Scene):\n",
    "    def construct(self):\n",
    "        decimal = DecimalNumber(\n",
    "            0,\n",
    "            show_ellipsis=True,\n",
    "            num_decimal_places=3,\n",
    "            include_sign=True,\n",
    "        )\n",
    "        square = Square().to_edge(UP)\n",
    "\n",
    "        decimal.add_updater(lambda d: d.next_to(square, RIGHT))\n",
    "        decimal.add_updater(lambda d: d.set_value(square.get_center()[1]))\n",
    "        self.add(square, decimal)\n",
    "        self.play(\n",
    "            square.animate.to_edge(DOWN),\n",
    "            rate_func=there_and_back,\n",
    "            run_time=5,\n",
    "        )\n",
    "        self.wait()"
   ]
  },
  {
   "cell_type": "code",
   "execution_count": null,
   "id": "8ca005be-a3ad-4b37-bebc-c23227b797c4",
   "metadata": {},
   "outputs": [],
   "source": []
  }
 ],
 "metadata": {
  "kernelspec": {
   "display_name": "Python 3 (ipykernel)",
   "language": "python",
   "name": "python3"
  },
  "language_info": {
   "codemirror_mode": {
    "name": "ipython",
    "version": 3
   },
   "file_extension": ".py",
   "mimetype": "text/x-python",
   "name": "python",
   "nbconvert_exporter": "python",
   "pygments_lexer": "ipython3",
   "version": "3.11.11"
  }
 },
 "nbformat": 4,
 "nbformat_minor": 5
}

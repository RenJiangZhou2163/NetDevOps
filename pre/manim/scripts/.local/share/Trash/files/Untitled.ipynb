{
 "cells": [
  {
   "cell_type": "code",
   "execution_count": 12,
   "id": "a2135dd7-1a69-4e53-9359-300002df6f00",
   "metadata": {},
   "outputs": [
    {
     "name": "stdout",
     "output_type": "stream",
     "text": [
      "/usr/local/lib/python3.11/site-packages/pydub/utils.py:170: RuntimeWarning: Couldn't find ffmpeg or avconv - defaulting to ffmpeg, but may not work\n",
      "  warn(\"Couldn't find ffmpeg or avconv - defaulting to ffmpeg, but may not work\", RuntimeWarning)\n",
      "Manim Community \u001b[32mv0.\u001b[0m\u001b[32m19.0\u001b[0m\n",
      "\n",
      "\u001b[31m╭─\u001b[0m\u001b[31m────────────────────\u001b[0m\u001b[31m \u001b[0m\u001b[1;31mTraceback \u001b[0m\u001b[1;2;31m(most recent call last)\u001b[0m\u001b[31m \u001b[0m\u001b[31m─────────────────────\u001b[0m\u001b[31m─╮\u001b[0m\n",
      "\u001b[31m│\u001b[0m \u001b[2;33m/usr/local/lib/python3.11/site-packages/manim/cli/render/\u001b[0m\u001b[1;33mcommands.py\u001b[0m:\u001b[94m125\u001b[0m in  \u001b[31m│\u001b[0m\n",
      "\u001b[31m│\u001b[0m \u001b[92mrender\u001b[0m                                                                       \u001b[31m│\u001b[0m\n",
      "\u001b[31m│\u001b[0m                                                                              \u001b[31m│\u001b[0m\n",
      "\u001b[31m│\u001b[0m   \u001b[2m122 \u001b[0m\u001b[2m│   │   │   \u001b[0m\u001b[94mtry\u001b[0m:                                                       \u001b[31m│\u001b[0m\n",
      "\u001b[31m│\u001b[0m   \u001b[2m123 \u001b[0m\u001b[2m│   │   │   │   \u001b[0m\u001b[94mwith\u001b[0m tempconfig({}):                                   \u001b[31m│\u001b[0m\n",
      "\u001b[31m│\u001b[0m   \u001b[2m124 \u001b[0m\u001b[2m│   │   │   │   │   \u001b[0mscene = SceneClass()                               \u001b[31m│\u001b[0m\n",
      "\u001b[31m│\u001b[0m \u001b[31m❱ \u001b[0m125 \u001b[2m│   │   │   │   │   \u001b[0mscene.render()                                     \u001b[31m│\u001b[0m\n",
      "\u001b[31m│\u001b[0m   \u001b[2m126 \u001b[0m\u001b[2m│   │   │   \u001b[0m\u001b[94mexcept\u001b[0m \u001b[96mException\u001b[0m:                                          \u001b[31m│\u001b[0m\n",
      "\u001b[31m│\u001b[0m   \u001b[2m127 \u001b[0m\u001b[2m│   │   │   │   \u001b[0m\u001b[1;4merror_console.print_exception()\u001b[0m                        \u001b[31m│\u001b[0m\n",
      "\u001b[31m│\u001b[0m   \u001b[2m128 \u001b[0m\u001b[2m│   │   │   │   \u001b[0msys.exit(\u001b[94m1\u001b[0m)                                            \u001b[31m│\u001b[0m\n",
      "\u001b[31m│\u001b[0m                                                                              \u001b[31m│\u001b[0m\n",
      "\u001b[31m│\u001b[0m \u001b[2;33m/usr/local/lib/python3.11/site-packages/manim/scene/\u001b[0m\u001b[1;33mscene.py\u001b[0m:\u001b[94m264\u001b[0m in \u001b[92mrender\u001b[0m   \u001b[31m│\u001b[0m\n",
      "\u001b[31m│\u001b[0m                                                                              \u001b[31m│\u001b[0m\n",
      "\u001b[31m│\u001b[0m   \u001b[2m 261 \u001b[0m\u001b[2m│   │   │   \u001b[0mconfig[\u001b[33m\"\u001b[0m\u001b[33mpreview\u001b[0m\u001b[33m\"\u001b[0m] = \u001b[94mTrue\u001b[0m                                  \u001b[31m│\u001b[0m\n",
      "\u001b[31m│\u001b[0m   \u001b[2m 262 \u001b[0m\u001b[2m│   │   \u001b[0m                                                              \u001b[31m│\u001b[0m\n",
      "\u001b[31m│\u001b[0m   \u001b[2m 263 \u001b[0m\u001b[2m│   │   \u001b[0m\u001b[94mif\u001b[0m config[\u001b[33m\"\u001b[0m\u001b[33mpreview\u001b[0m\u001b[33m\"\u001b[0m] \u001b[95mor\u001b[0m config[\u001b[33m\"\u001b[0m\u001b[33mshow_in_file_browser\u001b[0m\u001b[33m\"\u001b[0m]:       \u001b[31m│\u001b[0m\n",
      "\u001b[31m│\u001b[0m \u001b[31m❱ \u001b[0m 264 \u001b[2m│   │   │   \u001b[0m\u001b[1;4mopen_media_file(\u001b[0m\u001b[1;4;96mself\u001b[0m\u001b[1;4m.renderer.file_writer)\u001b[0m                \u001b[31m│\u001b[0m\n",
      "\u001b[31m│\u001b[0m   \u001b[2m 265 \u001b[0m\u001b[2m│   \u001b[0m                                                                  \u001b[31m│\u001b[0m\n",
      "\u001b[31m│\u001b[0m   \u001b[2m 266 \u001b[0m\u001b[2m│   \u001b[0m\u001b[94mdef\u001b[0m\u001b[90m \u001b[0m\u001b[92msetup\u001b[0m(\u001b[96mself\u001b[0m):                                                  \u001b[31m│\u001b[0m\n",
      "\u001b[31m│\u001b[0m   \u001b[2m 267 \u001b[0m\u001b[2;90m│   │   \u001b[0m\u001b[33m\"\"\"\u001b[0m                                                           \u001b[31m│\u001b[0m\n",
      "\u001b[31m│\u001b[0m                                                                              \u001b[31m│\u001b[0m\n",
      "\u001b[31m│\u001b[0m \u001b[2;33m/usr/local/lib/python3.11/site-packages/manim/utils/\u001b[0m\u001b[1;33mfile_ops.py\u001b[0m:\u001b[94m235\u001b[0m in       \u001b[31m│\u001b[0m\n",
      "\u001b[31m│\u001b[0m \u001b[92mopen_media_file\u001b[0m                                                              \u001b[31m│\u001b[0m\n",
      "\u001b[31m│\u001b[0m                                                                              \u001b[31m│\u001b[0m\n",
      "\u001b[31m│\u001b[0m   \u001b[2m232 \u001b[0m\u001b[2m│   │   \u001b[0m\u001b[94mif\u001b[0m config[\u001b[33m\"\u001b[0m\u001b[33mshow_in_file_browser\u001b[0m\u001b[33m\"\u001b[0m]:                             \u001b[31m│\u001b[0m\n",
      "\u001b[31m│\u001b[0m   \u001b[2m233 \u001b[0m\u001b[2m│   │   │   \u001b[0mopen_file(file_path, \u001b[94mTrue\u001b[0m)                                 \u001b[31m│\u001b[0m\n",
      "\u001b[31m│\u001b[0m   \u001b[2m234 \u001b[0m\u001b[2m│   │   \u001b[0m\u001b[94mif\u001b[0m config[\u001b[33m\"\u001b[0m\u001b[33mpreview\u001b[0m\u001b[33m\"\u001b[0m]:                                          \u001b[31m│\u001b[0m\n",
      "\u001b[31m│\u001b[0m \u001b[31m❱ \u001b[0m235 \u001b[2m│   │   │   \u001b[0m\u001b[1;4mopen_file(file_path, \u001b[0m\u001b[1;4;94mFalse\u001b[0m\u001b[1;4m)\u001b[0m                                \u001b[31m│\u001b[0m\n",
      "\u001b[31m│\u001b[0m   \u001b[2m236 \u001b[0m\u001b[2m│   │   │   \u001b[0m                                                           \u001b[31m│\u001b[0m\n",
      "\u001b[31m│\u001b[0m   \u001b[2m237 \u001b[0m\u001b[2m│   │   │   \u001b[0mlogger.info(\u001b[33mf\u001b[0m\u001b[33m\"\u001b[0m\u001b[33mPreviewed File at: \u001b[0m\u001b[33m'\u001b[0m\u001b[33m{\u001b[0mfile_path\u001b[33m}\u001b[0m\u001b[33m'\u001b[0m\u001b[33m\"\u001b[0m)           \u001b[31m│\u001b[0m\n",
      "\u001b[31m│\u001b[0m   \u001b[2m238 \u001b[0m                                                                       \u001b[31m│\u001b[0m\n",
      "\u001b[31m│\u001b[0m                                                                              \u001b[31m│\u001b[0m\n",
      "\u001b[31m│\u001b[0m \u001b[2;33m/usr/local/lib/python3.11/site-packages/manim/utils/\u001b[0m\u001b[1;33mfile_ops.py\u001b[0m:\u001b[94m218\u001b[0m in       \u001b[31m│\u001b[0m\n",
      "\u001b[31m│\u001b[0m \u001b[92mopen_file\u001b[0m                                                                    \u001b[31m│\u001b[0m\n",
      "\u001b[31m│\u001b[0m                                                                              \u001b[31m│\u001b[0m\n",
      "\u001b[31m│\u001b[0m   \u001b[2m215 \u001b[0m\u001b[2m│   │   \u001b[0m\u001b[94mif\u001b[0m config.preview_command:                                     \u001b[31m│\u001b[0m\n",
      "\u001b[31m│\u001b[0m   \u001b[2m216 \u001b[0m\u001b[2m│   │   │   \u001b[0mcommands = [config.preview_command]                        \u001b[31m│\u001b[0m\n",
      "\u001b[31m│\u001b[0m   \u001b[2m217 \u001b[0m\u001b[2m│   │   \u001b[0mcommands.append(\u001b[96mstr\u001b[0m(file_path))                                \u001b[31m│\u001b[0m\n",
      "\u001b[31m│\u001b[0m \u001b[31m❱ \u001b[0m218 \u001b[2m│   │   \u001b[0m\u001b[1;4msp.run(commands)\u001b[0m                                               \u001b[31m│\u001b[0m\n",
      "\u001b[31m│\u001b[0m   \u001b[2m219 \u001b[0m                                                                       \u001b[31m│\u001b[0m\n",
      "\u001b[31m│\u001b[0m   \u001b[2m220 \u001b[0m                                                                       \u001b[31m│\u001b[0m\n",
      "\u001b[31m│\u001b[0m   \u001b[2m221 \u001b[0m\u001b[94mdef\u001b[0m\u001b[90m \u001b[0m\u001b[92mopen_media_file\u001b[0m(file_writer: SceneFileWriter) -> \u001b[94mNone\u001b[0m:             \u001b[31m│\u001b[0m\n",
      "\u001b[31m│\u001b[0m                                                                              \u001b[31m│\u001b[0m\n",
      "\u001b[31m│\u001b[0m \u001b[2;33m/usr/local/lib/python3.11/\u001b[0m\u001b[1;33msubprocess.py\u001b[0m:\u001b[94m548\u001b[0m in \u001b[92mrun\u001b[0m                           \u001b[31m│\u001b[0m\n",
      "\u001b[31m│\u001b[0m                                                                              \u001b[31m│\u001b[0m\n",
      "\u001b[31m│\u001b[0m   \u001b[2m 545 \u001b[0m\u001b[2m│   │   \u001b[0mkwargs[\u001b[33m'\u001b[0m\u001b[33mstdout\u001b[0m\u001b[33m'\u001b[0m] = PIPE                                       \u001b[31m│\u001b[0m\n",
      "\u001b[31m│\u001b[0m   \u001b[2m 546 \u001b[0m\u001b[2m│   │   \u001b[0mkwargs[\u001b[33m'\u001b[0m\u001b[33mstderr\u001b[0m\u001b[33m'\u001b[0m] = PIPE                                       \u001b[31m│\u001b[0m\n",
      "\u001b[31m│\u001b[0m   \u001b[2m 547 \u001b[0m\u001b[2m│   \u001b[0m                                                                  \u001b[31m│\u001b[0m\n",
      "\u001b[31m│\u001b[0m \u001b[31m❱ \u001b[0m 548 \u001b[2m│   \u001b[0m\u001b[94mwith\u001b[0m \u001b[1;4mPopen(*popenargs, **kwargs)\u001b[0m \u001b[94mas\u001b[0m process:                      \u001b[31m│\u001b[0m\n",
      "\u001b[31m│\u001b[0m   \u001b[2m 549 \u001b[0m\u001b[2m│   │   \u001b[0m\u001b[94mtry\u001b[0m:                                                          \u001b[31m│\u001b[0m\n",
      "\u001b[31m│\u001b[0m   \u001b[2m 550 \u001b[0m\u001b[2m│   │   │   \u001b[0mstdout, stderr = process.communicate(\u001b[96minput\u001b[0m, timeout=timeo \u001b[31m│\u001b[0m\n",
      "\u001b[31m│\u001b[0m   \u001b[2m 551 \u001b[0m\u001b[2m│   │   \u001b[0m\u001b[94mexcept\u001b[0m TimeoutExpired \u001b[94mas\u001b[0m exc:                                 \u001b[31m│\u001b[0m\n",
      "\u001b[31m│\u001b[0m                                                                              \u001b[31m│\u001b[0m\n",
      "\u001b[31m│\u001b[0m \u001b[2;33m/usr/local/lib/python3.11/\u001b[0m\u001b[1;33msubprocess.py\u001b[0m:\u001b[94m1026\u001b[0m in \u001b[92m__init__\u001b[0m                     \u001b[31m│\u001b[0m\n",
      "\u001b[31m│\u001b[0m                                                                              \u001b[31m│\u001b[0m\n",
      "\u001b[31m│\u001b[0m   \u001b[2m1023 \u001b[0m\u001b[2m│   │   │   │   │   \u001b[0m\u001b[96mself\u001b[0m.stderr = io.TextIOWrapper(\u001b[96mself\u001b[0m.stderr,       \u001b[31m│\u001b[0m\n",
      "\u001b[31m│\u001b[0m   \u001b[2m1024 \u001b[0m\u001b[2m│   │   │   │   │   │   │   \u001b[0mencoding=encoding, errors=errors)         \u001b[31m│\u001b[0m\n",
      "\u001b[31m│\u001b[0m   \u001b[2m1025 \u001b[0m\u001b[2m│   │   │   \u001b[0m                                                          \u001b[31m│\u001b[0m\n",
      "\u001b[31m│\u001b[0m \u001b[31m❱ \u001b[0m1026 \u001b[2m│   │   │   \u001b[0m\u001b[96mself\u001b[0m._execute_child(args, executable, preexec_fn, close_f \u001b[31m│\u001b[0m\n",
      "\u001b[31m│\u001b[0m   \u001b[2m1027 \u001b[0m\u001b[2m│   │   │   │   │   │   │   │   \u001b[0mpass_fds, cwd, env,                   \u001b[31m│\u001b[0m\n",
      "\u001b[31m│\u001b[0m   \u001b[2m1028 \u001b[0m\u001b[2m│   │   │   │   │   │   │   │   \u001b[0mstartupinfo, creationflags, shell,    \u001b[31m│\u001b[0m\n",
      "\u001b[31m│\u001b[0m   \u001b[2m1029 \u001b[0m\u001b[2m│   │   │   │   │   │   │   │   \u001b[0mp2cread, p2cwrite,                    \u001b[31m│\u001b[0m\n",
      "\u001b[31m│\u001b[0m                                                                              \u001b[31m│\u001b[0m\n",
      "\u001b[31m│\u001b[0m \u001b[2;33m/usr/local/lib/python3.11/\u001b[0m\u001b[1;33msubprocess.py\u001b[0m:\u001b[94m1955\u001b[0m in \u001b[92m_execute_child\u001b[0m               \u001b[31m│\u001b[0m\n",
      "\u001b[31m│\u001b[0m                                                                              \u001b[31m│\u001b[0m\n",
      "\u001b[31m│\u001b[0m   \u001b[2m1952 \u001b[0m\u001b[2m│   │   │   │   │   \u001b[0m\u001b[94mif\u001b[0m errno_num != \u001b[94m0\u001b[0m:                                \u001b[31m│\u001b[0m\n",
      "\u001b[31m│\u001b[0m   \u001b[2m1953 \u001b[0m\u001b[2m│   │   │   │   │   │   \u001b[0merr_msg = os.strerror(errno_num)              \u001b[31m│\u001b[0m\n",
      "\u001b[31m│\u001b[0m   \u001b[2m1954 \u001b[0m\u001b[2m│   │   │   │   │   \u001b[0m\u001b[94mif\u001b[0m err_filename \u001b[95mis\u001b[0m \u001b[95mnot\u001b[0m \u001b[94mNone\u001b[0m:                      \u001b[31m│\u001b[0m\n",
      "\u001b[31m│\u001b[0m \u001b[31m❱ \u001b[0m1955 \u001b[2m│   │   │   │   │   │   \u001b[0m\u001b[1;4;94mraise\u001b[0m\u001b[1;4m child_exception_type(errno_num, err_msg\u001b[0m \u001b[31m│\u001b[0m\n",
      "\u001b[31m│\u001b[0m   \u001b[2m1956 \u001b[0m\u001b[2m│   │   │   │   │   \u001b[0m\u001b[94melse\u001b[0m:                                             \u001b[31m│\u001b[0m\n",
      "\u001b[31m│\u001b[0m   \u001b[2m1957 \u001b[0m\u001b[2m│   │   │   │   │   │   \u001b[0m\u001b[94mraise\u001b[0m child_exception_type(errno_num, err_msg \u001b[31m│\u001b[0m\n",
      "\u001b[31m│\u001b[0m   \u001b[2m1958 \u001b[0m\u001b[2m│   │   │   │   \u001b[0m\u001b[94mraise\u001b[0m child_exception_type(err_msg)                   \u001b[31m│\u001b[0m\n",
      "\u001b[31m╰──────────────────────────────────────────────────────────────────────────────╯\u001b[0m\n",
      "\u001b[1;91mFileNotFoundError: \u001b[0m\u001b[1m[\u001b[0mErrno \u001b[32m2\u001b[0m\u001b[1m]\u001b[0m No such file or directory: \u001b[32m'xdg-open'\u001b[0m\n"
     ]
    }
   ],
   "source": [
    "!manim -p -ql -qm -v WARNING  basic.py SquareToCircle"
   ]
  },
  {
   "cell_type": "code",
   "execution_count": null,
   "id": "06ac4535-714c-4db2-9b9e-e36e2f2d455f",
   "metadata": {},
   "outputs": [],
   "source": []
  },
  {
   "cell_type": "code",
   "execution_count": null,
   "id": "fd535127-ab06-426d-bb1c-366f0d82b567",
   "metadata": {},
   "outputs": [],
   "source": []
  }
 ],
 "metadata": {
  "kernelspec": {
   "display_name": "Python 3 (ipykernel)",
   "language": "python",
   "name": "python3"
  },
  "language_info": {
   "codemirror_mode": {
    "name": "ipython",
    "version": 3
   },
   "file_extension": ".py",
   "mimetype": "text/x-python",
   "name": "python",
   "nbconvert_exporter": "python",
   "pygments_lexer": "ipython3",
   "version": "3.11.11"
  }
 },
 "nbformat": 4,
 "nbformat_minor": 5
}

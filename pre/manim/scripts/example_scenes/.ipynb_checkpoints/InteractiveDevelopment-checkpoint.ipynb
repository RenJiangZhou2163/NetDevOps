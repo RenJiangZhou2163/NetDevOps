{
 "cells": [
  {
   "cell_type": "code",
   "execution_count": null,
   "id": "3806d8a5-afba-4591-b214-1d5ac2068008",
   "metadata": {},
   "outputs": [],
   "source": [
    "from manim import *"
   ]
  },
  {
   "cell_type": "code",
   "execution_count": null,
   "id": "60dc7831-1488-40de-bac4-8010fae58235",
   "metadata": {},
   "outputs": [],
   "source": [
    "%%manim -qm -v WARNING CoordinateSystemExample\n",
    "\n",
    "class InteractiveDevelopment(Scene):\n",
    "    def construct(self):\n",
    "        circle = Circle()\n",
    "        circle.set_fill(BLUE, opacity=0.5)\n",
    "        circle.set_stroke(BLUE_E, width=4)\n",
    "        square = Square()\n",
    "\n",
    "        self.play(ShowCreation(square))\n",
    "        self.wait()\n",
    "\n",
    "        # This opens an iPython terminal where you can keep writing\n",
    "        # lines as if they were part of this construct method.\n",
    "        # In particular, 'square', 'circle' and 'self' will all be\n",
    "        # part of the local namespace in that terminal.\n",
    "        self.embed()\n",
    "\n",
    "        # Try copying and pasting some of the lines below into\n",
    "        # the interactive shell\n",
    "        self.play(ReplacementTransform(square, circle))\n",
    "        self.wait()\n",
    "        self.play(circle.animate.stretch(4, 0))\n",
    "        self.play(Rotate(circle, 90 * DEGREES))\n",
    "        self.play(circle.animate.shift(2 * RIGHT).scale(0.25))\n",
    "\n",
    "        text = Text(\"\"\"\n",
    "            In general, using the interactive shell\n",
    "            is very helpful when developing new scenes\n",
    "        \"\"\")\n",
    "        self.play(Write(text))\n",
    "\n",
    "        # In the interactive shell, you can just type\n",
    "        # play, add, remove, clear, wait, save_state and restore,\n",
    "        # instead of self.play, self.add, self.remove, etc.\n",
    "\n",
    "        # To interact with the window, type touch().  You can then\n",
    "        # scroll in the window, or zoom by holding down 'z' while scrolling,\n",
    "        # and change camera perspective by holding down 'd' while moving\n",
    "        # the mouse.  Press 'r' to reset to the standard camera position.\n",
    "        # Press 'q' to stop interacting with the window and go back to\n",
    "        # typing new commands into the shell.\n",
    "\n",
    "        # In principle you can customize a scene to be responsive to\n",
    "        # mouse and keyboard interactions\n",
    "        always(circle.move_to, self.mouse_point)"
   ]
  }
 ],
 "metadata": {
  "kernelspec": {
   "display_name": "Python 3 (ipykernel)",
   "language": "python",
   "name": "python3"
  },
  "language_info": {
   "codemirror_mode": {
    "name": "ipython",
    "version": 3
   },
   "file_extension": ".py",
   "mimetype": "text/x-python",
   "name": "python",
   "nbconvert_exporter": "python",
   "pygments_lexer": "ipython3",
   "version": "3.11.11"
  }
 },
 "nbformat": 4,
 "nbformat_minor": 5
}

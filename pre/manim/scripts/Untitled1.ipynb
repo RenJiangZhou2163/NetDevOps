{
 "cells": [
  {
   "cell_type": "code",
   "execution_count": 3,
   "id": "919b4a76-e6e7-4ef5-908e-46217951e31d",
   "metadata": {},
   "outputs": [
    {
     "data": {
      "text/html": [
       "<pre style=\"white-space:pre;overflow-x:auto;line-height:normal;font-family:Menlo,'DejaVu Sans Mono',consolas,'Courier New',monospace\">Manim Community <span style=\"color: #008000; text-decoration-color: #008000\">v0.19.0</span>\n",
       "\n",
       "</pre>\n"
      ],
      "text/plain": [
       "Manim Community \u001b[32mv0.\u001b[0m\u001b[32m19.0\u001b[0m\n",
       "\n"
      ]
     },
     "metadata": {},
     "output_type": "display_data"
    },
    {
     "ename": "NameError",
     "evalue": "name 'RightTriangle' is not defined",
     "output_type": "error",
     "traceback": [
      "\u001b[0;31m---------------------------------------------------------------------------\u001b[0m",
      "\u001b[0;31mNameError\u001b[0m                                 Traceback (most recent call last)",
      "Cell \u001b[0;32mIn[3], line 55\u001b[0m\n\u001b[1;32m     51\u001b[0m         \u001b[38;5;28;01mreturn\u001b[39;00m pieces\n\u001b[1;32m     54\u001b[0m \u001b[38;5;66;03m# don't remove below command for run button to work\u001b[39;00m\n\u001b[0;32m---> 55\u001b[0m \u001b[43mget_ipython\u001b[49m\u001b[43m(\u001b[49m\u001b[43m)\u001b[49m\u001b[38;5;241;43m.\u001b[39;49m\u001b[43mrun_line_magic\u001b[49m\u001b[43m(\u001b[49m\u001b[38;5;124;43m'\u001b[39;49m\u001b[38;5;124;43mmanim\u001b[39;49m\u001b[38;5;124;43m'\u001b[39;49m\u001b[43m,\u001b[49m\u001b[43m \u001b[49m\u001b[38;5;124;43m'\u001b[39;49m\u001b[38;5;124;43m-qm -v WARNING PythagoreanTheorem\u001b[39;49m\u001b[38;5;124;43m'\u001b[39;49m\u001b[43m)\u001b[49m\n",
      "File \u001b[0;32m/usr/local/lib/python3.11/site-packages/IPython/core/interactiveshell.py:2480\u001b[0m, in \u001b[0;36mInteractiveShell.run_line_magic\u001b[0;34m(self, magic_name, line, _stack_depth)\u001b[0m\n\u001b[1;32m   2478\u001b[0m     kwargs[\u001b[38;5;124m'\u001b[39m\u001b[38;5;124mlocal_ns\u001b[39m\u001b[38;5;124m'\u001b[39m] \u001b[38;5;241m=\u001b[39m \u001b[38;5;28mself\u001b[39m\u001b[38;5;241m.\u001b[39mget_local_scope(stack_depth)\n\u001b[1;32m   2479\u001b[0m \u001b[38;5;28;01mwith\u001b[39;00m \u001b[38;5;28mself\u001b[39m\u001b[38;5;241m.\u001b[39mbuiltin_trap:\n\u001b[0;32m-> 2480\u001b[0m     result \u001b[38;5;241m=\u001b[39m \u001b[43mfn\u001b[49m\u001b[43m(\u001b[49m\u001b[38;5;241;43m*\u001b[39;49m\u001b[43margs\u001b[49m\u001b[43m,\u001b[49m\u001b[43m \u001b[49m\u001b[38;5;241;43m*\u001b[39;49m\u001b[38;5;241;43m*\u001b[39;49m\u001b[43mkwargs\u001b[49m\u001b[43m)\u001b[49m\n\u001b[1;32m   2482\u001b[0m \u001b[38;5;66;03m# The code below prevents the output from being displayed\u001b[39;00m\n\u001b[1;32m   2483\u001b[0m \u001b[38;5;66;03m# when using magics with decorator @output_can_be_silenced\u001b[39;00m\n\u001b[1;32m   2484\u001b[0m \u001b[38;5;66;03m# when the last Python token in the expression is a ';'.\u001b[39;00m\n\u001b[1;32m   2485\u001b[0m \u001b[38;5;28;01mif\u001b[39;00m \u001b[38;5;28mgetattr\u001b[39m(fn, magic\u001b[38;5;241m.\u001b[39mMAGIC_OUTPUT_CAN_BE_SILENCED, \u001b[38;5;28;01mFalse\u001b[39;00m):\n",
      "File \u001b[0;32m/usr/local/lib/python3.11/site-packages/manim/utils/ipython_magic.py:143\u001b[0m, in \u001b[0;36mManimMagic.manim\u001b[0;34m(self, line, cell, local_ns)\u001b[0m\n\u001b[1;32m    141\u001b[0m     SceneClass \u001b[38;5;241m=\u001b[39m local_ns[config[\u001b[38;5;124m\"\u001b[39m\u001b[38;5;124mscene_names\u001b[39m\u001b[38;5;124m\"\u001b[39m][\u001b[38;5;241m0\u001b[39m]]\n\u001b[1;32m    142\u001b[0m     scene \u001b[38;5;241m=\u001b[39m SceneClass(renderer\u001b[38;5;241m=\u001b[39mrenderer)\n\u001b[0;32m--> 143\u001b[0m     \u001b[43mscene\u001b[49m\u001b[38;5;241;43m.\u001b[39;49m\u001b[43mrender\u001b[49m\u001b[43m(\u001b[49m\u001b[43m)\u001b[49m\n\u001b[1;32m    144\u001b[0m \u001b[38;5;28;01mfinally\u001b[39;00m:\n\u001b[1;32m    145\u001b[0m     \u001b[38;5;66;03m# Shader cache becomes invalid as the context is destroyed\u001b[39;00m\n\u001b[1;32m    146\u001b[0m     shader_program_cache\u001b[38;5;241m.\u001b[39mclear()\n",
      "File \u001b[0;32m/usr/local/lib/python3.11/site-packages/manim/scene/scene.py:237\u001b[0m, in \u001b[0;36mScene.render\u001b[0;34m(self, preview)\u001b[0m\n\u001b[1;32m    235\u001b[0m \u001b[38;5;28mself\u001b[39m\u001b[38;5;241m.\u001b[39msetup()\n\u001b[1;32m    236\u001b[0m \u001b[38;5;28;01mtry\u001b[39;00m:\n\u001b[0;32m--> 237\u001b[0m     \u001b[38;5;28;43mself\u001b[39;49m\u001b[38;5;241;43m.\u001b[39;49m\u001b[43mconstruct\u001b[49m\u001b[43m(\u001b[49m\u001b[43m)\u001b[49m\n\u001b[1;32m    238\u001b[0m \u001b[38;5;28;01mexcept\u001b[39;00m EndSceneEarlyException:\n\u001b[1;32m    239\u001b[0m     \u001b[38;5;28;01mpass\u001b[39;00m\n",
      "Cell \u001b[0;32mIn[3], line 11\u001b[0m, in \u001b[0;36mPythagoreanTheorem.construct\u001b[0;34m(self)\u001b[0m\n\u001b[1;32m      8\u001b[0m c \u001b[38;5;241m=\u001b[39m (a\u001b[38;5;241m*\u001b[39m\u001b[38;5;241m*\u001b[39m\u001b[38;5;241m2\u001b[39m \u001b[38;5;241m+\u001b[39m b\u001b[38;5;241m*\u001b[39m\u001b[38;5;241m*\u001b[39m\u001b[38;5;241m2\u001b[39m)\u001b[38;5;241m*\u001b[39m\u001b[38;5;241m*\u001b[39m\u001b[38;5;241m0.5\u001b[39m\n\u001b[1;32m     10\u001b[0m \u001b[38;5;66;03m# 创建直角三角形\u001b[39;00m\n\u001b[0;32m---> 11\u001b[0m triangle \u001b[38;5;241m=\u001b[39m \u001b[43mRightTriangle\u001b[49m([\u001b[38;5;241m0\u001b[39m, \u001b[38;5;241m0\u001b[39m, \u001b[38;5;241m0\u001b[39m], [a, \u001b[38;5;241m0\u001b[39m, \u001b[38;5;241m0\u001b[39m], [\u001b[38;5;241m0\u001b[39m, b, \u001b[38;5;241m0\u001b[39m], color\u001b[38;5;241m=\u001b[39mBLUE)\n\u001b[1;32m     12\u001b[0m triangle\u001b[38;5;241m.\u001b[39mshift(\u001b[38;5;241m2\u001b[39m \u001b[38;5;241m*\u001b[39m LEFT \u001b[38;5;241m+\u001b[39m DOWN)\n\u001b[1;32m     14\u001b[0m \u001b[38;5;66;03m# 创建以三条边为边长的正方形\u001b[39;00m\n",
      "\u001b[0;31mNameError\u001b[0m: name 'RightTriangle' is not defined"
     ]
    }
   ],
   "source": [
    "from manim import *\n",
    "\n",
    "class PythagoreanTheorem(Scene):\n",
    "    def construct(self):\n",
    "        # 定义直角三角形的边长\n",
    "        a = 3\n",
    "        b = 4\n",
    "        c = (a**2 + b**2)**0.5\n",
    "\n",
    "        # 创建直角三角形\n",
    "        triangle = RightTriangle([0, 0, 0], [a, 0, 0], [0, b, 0], color=BLUE)\n",
    "        triangle.shift(2 * LEFT + DOWN)\n",
    "\n",
    "        # 创建以三条边为边长的正方形\n",
    "        square_a = Square(side_length=a, color=YELLOW).next_to(triangle, LEFT, buff=0)\n",
    "        square_b = Square(side_length=b, color=GREEN).next_to(triangle, DOWN, buff=0)\n",
    "        square_c = Square(side_length=c, color=RED).next_to(triangle, UP + RIGHT, buff=0)\n",
    "\n",
    "        # 创建文字 a² + b² = c²\n",
    "        equation = MathTex(r\"a^2 + b^2 = c^2\").scale(1.5).shift(3 * UP)\n",
    "\n",
    "        # 显示直角三角形和正方形\n",
    "        self.play(Create(triangle))\n",
    "        self.play(Create(square_a), Create(square_b), Create(square_c))\n",
    "        self.wait(1)\n",
    "\n",
    "        # 显示等式\n",
    "        self.play(Write(equation))\n",
    "        self.wait(2)\n",
    "\n",
    "        # 动画展示面积关系\n",
    "        pieces_a = self.divide_square(square_a, a)\n",
    "        pieces_b = self.divide_square(square_b, b)\n",
    "\n",
    "        for piece in pieces_a + pieces_b:\n",
    "            self.play(Transform(piece, piece.copy().move_to(square_c)))\n",
    "\n",
    "        self.wait(2)\n",
    "\n",
    "    def divide_square(self, square, side_length):\n",
    "        # 将正方形分割成小正方形\n",
    "        pieces = []\n",
    "        for i in range(side_length):\n",
    "            for j in range(side_length):\n",
    "                piece = Square(side_length=1, color=square.color, fill_opacity=1).move_to(\n",
    "                    square.get_bottom_left() + (i + 0.5) * RIGHT + (j + 0.5) * UP\n",
    "                )\n",
    "                pieces.append(piece)\n",
    "        self.add(*pieces)\n",
    "        self.remove(square)\n",
    "        return pieces\n",
    "\n",
    "\n",
    "# don't remove below command for run button to work\n",
    "%manim -qm -v WARNING PythagoreanTheorem"
   ]
  },
  {
   "cell_type": "code",
   "execution_count": null,
   "id": "82d3468e-e480-401a-b788-b82b96f036e0",
   "metadata": {},
   "outputs": [],
   "source": []
  },
  {
   "cell_type": "code",
   "execution_count": null,
   "id": "bdee66c4-453a-417b-ac10-04994b64395e",
   "metadata": {},
   "outputs": [],
   "source": []
  }
 ],
 "metadata": {
  "kernelspec": {
   "display_name": "Python 3 (ipykernel)",
   "language": "python",
   "name": "python3"
  },
  "language_info": {
   "codemirror_mode": {
    "name": "ipython",
    "version": 3
   },
   "file_extension": ".py",
   "mimetype": "text/x-python",
   "name": "python",
   "nbconvert_exporter": "python",
   "pygments_lexer": "ipython3",
   "version": "3.11.11"
  }
 },
 "nbformat": 4,
 "nbformat_minor": 5
}
